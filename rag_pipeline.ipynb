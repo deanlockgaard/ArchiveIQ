{
 "cells": [
  {
   "cell_type": "code",
   "execution_count": 1,
   "id": "dfc0f8d9-1db1-49de-b351-1260595af273",
   "metadata": {},
   "outputs": [
    {
     "name": "stdout",
     "output_type": "stream",
     "text": [
      "Libraries imported and Supabase client initialized.\n"
     ]
    }
   ],
   "source": [
    "import os\n",
    "from dotenv import load_dotenv\n",
    "from supabase import create_client, Client\n",
    "from langchain.text_splitter import RecursiveCharacterTextSplitter\n",
    "from sentence_transformers import SentenceTransformer\n",
    "\n",
    "# Load environment variables from .env file\n",
    "load_dotenv()\n",
    "\n",
    "# Initialize Supabase client\n",
    "url: str = os.environ.get(\"SUPABASE_URL\")\n",
    "key: str = os.environ.get(\"SUPABASE_KEY\")\n",
    "supabase: Client = create_client(url, key)\n",
    "\n",
    "print(\"Libraries imported and Supabase client initialized.\")"
   ]
  },
  {
   "cell_type": "code",
   "execution_count": 2,
   "id": "36b1088f-fa20-42e7-b8db-0d4953d509d6",
   "metadata": {},
   "outputs": [
    {
     "data": {
      "application/vnd.jupyter.widget-view+json": {
       "model_id": "34067daa6eaa4220951efd77df6e735c",
       "version_major": 2,
       "version_minor": 0
      },
      "text/plain": [
       "modules.json:   0%|          | 0.00/229 [00:00<?, ?B/s]"
      ]
     },
     "metadata": {},
     "output_type": "display_data"
    },
    {
     "data": {
      "application/vnd.jupyter.widget-view+json": {
       "model_id": "32aba7e1fde3440abc9e2d0d630b968f",
       "version_major": 2,
       "version_minor": 0
      },
      "text/plain": [
       "config_sentence_transformers.json:   0%|          | 0.00/266 [00:00<?, ?B/s]"
      ]
     },
     "metadata": {},
     "output_type": "display_data"
    },
    {
     "data": {
      "application/vnd.jupyter.widget-view+json": {
       "model_id": "950e1a4151694e7099635196068445d0",
       "version_major": 2,
       "version_minor": 0
      },
      "text/plain": [
       "README.md: 0.00B [00:00, ?B/s]"
      ]
     },
     "metadata": {},
     "output_type": "display_data"
    },
    {
     "data": {
      "application/vnd.jupyter.widget-view+json": {
       "model_id": "e933ac46496045d5af82c4e983d35668",
       "version_major": 2,
       "version_minor": 0
      },
      "text/plain": [
       "sentence_bert_config.json:   0%|          | 0.00/53.0 [00:00<?, ?B/s]"
      ]
     },
     "metadata": {},
     "output_type": "display_data"
    },
    {
     "data": {
      "application/vnd.jupyter.widget-view+json": {
       "model_id": "12cfa25d1e69490dbe3957f53ce8cbb7",
       "version_major": 2,
       "version_minor": 0
      },
      "text/plain": [
       "config.json:   0%|          | 0.00/677 [00:00<?, ?B/s]"
      ]
     },
     "metadata": {},
     "output_type": "display_data"
    },
    {
     "data": {
      "application/vnd.jupyter.widget-view+json": {
       "model_id": "39a80bef201e4a4a8a54ada726c4c6d0",
       "version_major": 2,
       "version_minor": 0
      },
      "text/plain": [
       "model.safetensors:   0%|          | 0.00/670M [00:00<?, ?B/s]"
      ]
     },
     "metadata": {},
     "output_type": "display_data"
    },
    {
     "data": {
      "application/vnd.jupyter.widget-view+json": {
       "model_id": "1ae5a638d4c24221aca11789382057df",
       "version_major": 2,
       "version_minor": 0
      },
      "text/plain": [
       "tokenizer_config.json: 0.00B [00:00, ?B/s]"
      ]
     },
     "metadata": {},
     "output_type": "display_data"
    },
    {
     "data": {
      "application/vnd.jupyter.widget-view+json": {
       "model_id": "fe4d7dfa66414a83878b5d52b19f4266",
       "version_major": 2,
       "version_minor": 0
      },
      "text/plain": [
       "vocab.txt: 0.00B [00:00, ?B/s]"
      ]
     },
     "metadata": {},
     "output_type": "display_data"
    },
    {
     "data": {
      "application/vnd.jupyter.widget-view+json": {
       "model_id": "3683055f6ecd4d99bd372354798c57a6",
       "version_major": 2,
       "version_minor": 0
      },
      "text/plain": [
       "tokenizer.json: 0.00B [00:00, ?B/s]"
      ]
     },
     "metadata": {},
     "output_type": "display_data"
    },
    {
     "data": {
      "application/vnd.jupyter.widget-view+json": {
       "model_id": "cd4d5de1b38b42e2bff34a9afd0617c0",
       "version_major": 2,
       "version_minor": 0
      },
      "text/plain": [
       "special_tokens_map.json:   0%|          | 0.00/695 [00:00<?, ?B/s]"
      ]
     },
     "metadata": {},
     "output_type": "display_data"
    },
    {
     "data": {
      "application/vnd.jupyter.widget-view+json": {
       "model_id": "4e86f9f30b034745998034208eb5045f",
       "version_major": 2,
       "version_minor": 0
      },
      "text/plain": [
       "config.json:   0%|          | 0.00/297 [00:00<?, ?B/s]"
      ]
     },
     "metadata": {},
     "output_type": "display_data"
    },
    {
     "name": "stdout",
     "output_type": "stream",
     "text": [
      "Embedding model loaded.\n"
     ]
    }
   ],
   "source": [
    "# Load the sentence-transformer model\n",
    "model = SentenceTransformer('mixedbread-ai/mxbai-embed-large-v1')\n",
    "\n",
    "print(\"Embedding model loaded.\")"
   ]
  },
  {
   "cell_type": "code",
   "execution_count": 3,
   "id": "1e7f92c2-4ed4-428f-8f19-5978821c41a4",
   "metadata": {},
   "outputs": [
    {
     "name": "stdout",
     "output_type": "stream",
     "text": [
      "Sample document prepared.\n"
     ]
    }
   ],
   "source": [
    "# Sample document text\n",
    "sample_document = \"\"\"\n",
    "The Solar System is the gravitationally bound system of the Sun and the objects that orbit it.\n",
    "It was formed 4.6 billion years ago from the gravitational collapse of a giant interstellar molecular cloud.\n",
    "The vast majority (99.86%) of the system's mass is in the Sun, with most of the remaining mass contained in the planet Jupiter.\n",
    "The four inner terrestrial planets—Mercury, Venus, Earth, and Mars—are composed primarily of rock and metal.\n",
    "The four outer giant planets are substantially more massive than the terrestrials.\n",
    "The two largest, Jupiter and Saturn, are gas giants, being composed mainly of hydrogen and helium; the two outermost planets, Uranus and Neptune, are ice giants, being composed mostly of substances with relatively high melting points compared with hydrogen and helium, called volatiles, such as water, ammonia, and methane.\n",
    "All eight planets have nearly circular orbits that lie within a nearly flat disc called the ecliptic.\n",
    "\"\"\"\n",
    "\n",
    "print(\"Sample document prepared.\")"
   ]
  },
  {
   "cell_type": "code",
   "execution_count": 4,
   "id": "52c0f38e-b4d1-468e-b4c3-16379e0c1a5a",
   "metadata": {},
   "outputs": [
    {
     "name": "stdout",
     "output_type": "stream",
     "text": [
      "--- Chunk 1 ---\n",
      "The Solar System is the gravitationally bound system of the Sun and the objects that orbit it.\n",
      "It was formed 4.6 billion years ago from the gravitational collapse of a giant interstellar molecular cloud.\n",
      "\n",
      "--- Chunk 2 ---\n",
      "The vast majority (99.86%) of the system's mass is in the Sun, with most of the remaining mass contained in the planet Jupiter.\n",
      "The four inner terrestrial planets—Mercury, Venus, Earth, and Mars—are composed primarily of rock and metal.\n",
      "\n",
      "--- Chunk 3 ---\n",
      "The four outer giant planets are substantially more massive than the terrestrials.\n",
      "\n",
      "--- Chunk 4 ---\n",
      "The two largest, Jupiter and Saturn, are gas giants, being composed mainly of hydrogen and helium; the two outermost planets, Uranus and Neptune, are ice giants, being composed mostly of substances with relatively high melting points compared with\n",
      "\n",
      "--- Chunk 5 ---\n",
      "with relatively high melting points compared with hydrogen and helium, called volatiles, such as water, ammonia, and methane.\n",
      "\n",
      "--- Chunk 6 ---\n",
      "All eight planets have nearly circular orbits that lie within a nearly flat disc called the ecliptic.\n",
      "\n"
     ]
    }
   ],
   "source": [
    "# Initialize the text splitter\n",
    "text_splitter = RecursiveCharacterTextSplitter(\n",
    "    chunk_size=250,\n",
    "    chunk_overlap=50,\n",
    "    length_function=len\n",
    ")\n",
    "\n",
    "# Create chunks\n",
    "chunks = text_splitter.split_text(sample_document)\n",
    "\n",
    "# Print out the chunks to see the result\n",
    "for i, chunk in enumerate(chunks):\n",
    "    print(f\"--- Chunk {i+1} ---\")\n",
    "    print(chunk)\n",
    "    print()"
   ]
  },
  {
   "cell_type": "code",
   "execution_count": 5,
   "id": "f8992791-5404-4f25-8aa6-76113707dacf",
   "metadata": {},
   "outputs": [
    {
     "name": "stdout",
     "output_type": "stream",
     "text": [
      "Successfully inserted 6 chunks into the database.\n"
     ]
    }
   ],
   "source": [
    "# Generate embeddings for each chunk and prepare for Supabase\n",
    "documents_to_insert = []\n",
    "for chunk in chunks:\n",
    "    # Generate the embedding\n",
    "    embedding = model.encode(chunk).tolist()\n",
    "    \n",
    "    # Add to our list\n",
    "    documents_to_insert.append({\n",
    "        'content': chunk,\n",
    "        'embedding': embedding\n",
    "    })\n",
    "\n",
    "# Insert all documents into the Supabase table\n",
    "try:\n",
    "    data, count = supabase.table('documents').insert(documents_to_insert).execute()\n",
    "    print(f\"Successfully inserted {len(data[1])} chunks into the database.\")\n",
    "except Exception as e:\n",
    "    print(f\"An error occurred: {e}\")"
   ]
  },
  {
   "cell_type": "code",
   "execution_count": 6,
   "id": "b630d756-865d-485d-9ba3-13433fad1443",
   "metadata": {},
   "outputs": [
    {
     "name": "stdout",
     "output_type": "stream",
     "text": [
      "Found 3 matching documents for the query: 'What are the inner planets made of?'\n",
      "\n",
      "--- Similarity: 0.7482 ---\n",
      "The vast majority (99.86%) of the system's mass is in the Sun, with most of the remaining mass contained in the planet Jupiter.\n",
      "The four inner terrestrial planets—Mercury, Venus, Earth, and Mars—are composed primarily of rock and metal.\n",
      "\n",
      "--- Similarity: 0.6878 ---\n",
      "The two largest, Jupiter and Saturn, are gas giants, being composed mainly of hydrogen and helium; the two outermost planets, Uranus and Neptune, are ice giants, being composed mostly of substances with relatively high melting points compared with\n",
      "\n",
      "--- Similarity: 0.6396 ---\n",
      "The Solar System is the gravitationally bound system of the Sun and the objects that orbit it.\n",
      "It was formed 4.6 billion years ago from the gravitational collapse of a giant interstellar molecular cloud.\n",
      "\n"
     ]
    }
   ],
   "source": [
    "# User's search query\n",
    "query = \"What are the inner planets made of?\"\n",
    "\n",
    "# Generate embedding for the query\n",
    "query_embedding = model.encode(query).tolist()\n",
    "\n",
    "# Perform the search using the RPC function\n",
    "try:\n",
    "    response = supabase.rpc('match_documents', {\n",
    "        'query_embedding': query_embedding,\n",
    "        'match_threshold': 0.5,  # Adjust this threshold as needed\n",
    "        'match_count': 3        # Get the top 3 matches\n",
    "    }).execute()\n",
    "    \n",
    "    # Print the results\n",
    "    print(f\"Found {len(response.data)} matching documents for the query: '{query}'\\n\")\n",
    "    for doc in response.data:\n",
    "        print(f\"--- Similarity: {doc['similarity']:.4f} ---\")\n",
    "        print(doc['content'])\n",
    "        print()\n",
    "        \n",
    "except Exception as e:\n",
    "    print(f\"An error occurred during search: {e}\")"
   ]
  },
  {
   "cell_type": "code",
   "execution_count": null,
   "id": "f648b6cf-3fe8-49c1-b951-157a8d800cba",
   "metadata": {},
   "outputs": [],
   "source": []
  }
 ],
 "metadata": {
  "kernelspec": {
   "display_name": "Python 3 (ipykernel)",
   "language": "python",
   "name": "python3"
  },
  "language_info": {
   "codemirror_mode": {
    "name": "ipython",
    "version": 3
   },
   "file_extension": ".py",
   "mimetype": "text/x-python",
   "name": "python",
   "nbconvert_exporter": "python",
   "pygments_lexer": "ipython3",
   "version": "3.12.3"
  }
 },
 "nbformat": 4,
 "nbformat_minor": 5
}
